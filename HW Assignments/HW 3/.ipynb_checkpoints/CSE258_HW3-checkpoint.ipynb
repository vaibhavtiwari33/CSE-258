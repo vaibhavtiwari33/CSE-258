{
 "cells": [
  {
   "cell_type": "code",
   "execution_count": 1,
   "metadata": {},
   "outputs": [],
   "source": [
    "import gzip\n",
    "from collections import defaultdict\n",
    "from sklearn import linear_model\n",
    "import csv\n",
    "import json"
   ]
  },
  {
   "cell_type": "code",
   "execution_count": 2,
   "metadata": {},
   "outputs": [],
   "source": [
    "import numpy as np\n",
    "import random"
   ]
  },
  {
   "cell_type": "code",
   "execution_count": 3,
   "metadata": {},
   "outputs": [],
   "source": [
    "def readGz(path):\n",
    "    for l in gzip.open(path, 'rt'):\n",
    "        yield eval(l)"
   ]
  },
  {
   "cell_type": "code",
   "execution_count": 55,
   "metadata": {},
   "outputs": [],
   "source": [
    "def readCSV(path):\n",
    "    f = gzip.open(path, 'rt')\n",
    "    c = csv.reader(f)\n",
    "    header = next(c)\n",
    "    for l in c:\n",
    "        d = dict(zip(header,l))\n",
    "        yield d['user_id'],d['recipe_id'],d"
   ]
  },
  {
   "cell_type": "code",
   "execution_count": 5,
   "metadata": {},
   "outputs": [],
   "source": [
    "def loadCSV(path):\n",
    "    f = gzip.open(path, 'rt')\n",
    "    c = csv.reader(f)\n",
    "    header = next(c)\n",
    "    dataset = []\n",
    "    for line in c:\n",
    "        d = dict(zip(header, line))\n",
    "        dataset.append(d)\n",
    "    return dataset"
   ]
  },
  {
   "cell_type": "markdown",
   "metadata": {},
   "source": [
    "# Q1)"
   ]
  },
  {
   "cell_type": "code",
   "execution_count": 6,
   "metadata": {},
   "outputs": [],
   "source": [
    "dataset = loadCSV('trainInteractions.csv.gz')"
   ]
  },
  {
   "cell_type": "code",
   "execution_count": 7,
   "metadata": {},
   "outputs": [
    {
     "data": {
      "text/plain": [
       "500000"
      ]
     },
     "execution_count": 7,
     "metadata": {},
     "output_type": "execute_result"
    }
   ],
   "source": [
    "len(dataset)"
   ]
  },
  {
   "cell_type": "code",
   "execution_count": 22,
   "metadata": {},
   "outputs": [],
   "source": [
    "train = dataset[:400000]\n",
    "validation = dataset[400000:]"
   ]
  },
  {
   "cell_type": "code",
   "execution_count": 23,
   "metadata": {},
   "outputs": [],
   "source": [
    "userPerRecipeValid = defaultdict(set)\n",
    "recipePerUserValid = defaultdict(set)\n",
    "recipeListValid = set([])\n",
    "newValidationDataset = []\n",
    "\n",
    "for datum in validation:\n",
    "    user, recipe = datum['user_id'], datum['recipe_id']\n",
    "    userPerRecipeValid[recipe].add(user)\n",
    "    recipePerUserValid[user].add(recipe)\n",
    "    recipeListValid.add(recipe)\n",
    "\n",
    "recipeListValid = list(recipeListValid)\n",
    "recipeListSize = len(recipeListValid)\n",
    "for datum in validation:\n",
    "    user, recipe = datum['user_id'], datum['recipe_id']\n",
    "    newValidationDataset.append((user, recipe, 1))\n",
    "    \n",
    "    while True:\n",
    "        index = random.randint(0, recipeListSize - 1)\n",
    "        if recipeListValid[index] not in recipePerUserValid[user]:\n",
    "            break\n",
    "    \n",
    "    newValidationDataset.append((user, recipeListValid[index], 0))"
   ]
  },
  {
   "cell_type": "code",
   "execution_count": 25,
   "metadata": {},
   "outputs": [
    {
     "data": {
      "text/plain": [
       "200000"
      ]
     },
     "execution_count": 25,
     "metadata": {},
     "output_type": "execute_result"
    }
   ],
   "source": [
    "len(newValidationDataset)"
   ]
  },
  {
   "cell_type": "code",
   "execution_count": 26,
   "metadata": {},
   "outputs": [
    {
     "data": {
      "text/plain": [
       "[('90764166', '01768679', 1),\n",
       " ('90764166', '44845944', 0),\n",
       " ('68112239', '24923981', 1),\n",
       " ('68112239', '64197312', 0),\n",
       " ('32173358', '57597698', 1),\n",
       " ('32173358', '58861769', 0),\n",
       " ('30893740', '16266088', 1),\n",
       " ('30893740', '78236641', 0),\n",
       " ('69780905', '62953151', 1),\n",
       " ('69780905', '28584315', 0)]"
      ]
     },
     "execution_count": 26,
     "metadata": {},
     "output_type": "execute_result"
    }
   ],
   "source": [
    "newValidationDataset[:10]"
   ]
  },
  {
   "cell_type": "code",
   "execution_count": 35,
   "metadata": {},
   "outputs": [],
   "source": [
    "### Would-cook baseline: just rank which recipes are popular and which are not, and return '1' if a recipe is among the top-ranked\n",
    "\n",
    "recipeCount = defaultdict(int)\n",
    "totalCooked = 0\n",
    "\n",
    "for d in train:\n",
    "    user, recipe = d['user_id'], d['recipe_id']\n",
    "    recipeCount[recipe] += 1\n",
    "    totalCooked += 1\n",
    "\n",
    "mostPopular = [(recipeCount[x], x) for x in recipeCount]\n",
    "mostPopular.sort()\n",
    "mostPopular.reverse()\n",
    "\n",
    "return1 = set()\n",
    "count = 0\n",
    "for ic, i in mostPopular:\n",
    "    count += ic\n",
    "    return1.add(i)\n",
    "    if count > totalCooked/2: break\n",
    "\n",
    "correct_labels = 0\n",
    "total_labels = 0\n",
    "for d in newValidationDataset:\n",
    "    user, recipe, label = d\n",
    "    if recipe in return1:\n",
    "        prediction = 1\n",
    "    else:\n",
    "        prediction = 0\n",
    "    \n",
    "    if prediction == label:\n",
    "        correct_labels += 1\n",
    "    total_labels += 1\n",
    "\n",
    "accuracy = correct_labels/total_labels"
   ]
  },
  {
   "cell_type": "code",
   "execution_count": 36,
   "metadata": {},
   "outputs": [
    {
     "data": {
      "text/plain": [
       "0.61539"
      ]
     },
     "execution_count": 36,
     "metadata": {},
     "output_type": "execute_result"
    }
   ],
   "source": [
    "accuracy"
   ]
  },
  {
   "cell_type": "markdown",
   "metadata": {},
   "source": [
    "# Q2)"
   ]
  },
  {
   "cell_type": "code",
   "execution_count": 50,
   "metadata": {},
   "outputs": [],
   "source": [
    "thresholds = [0.1, 0.2, 0.3, 0.4, 0.43, 0.45, 0.48, 0.49, 0.5, 0.51, 0.52, 0.53, 0.55, 0.6, 0.7, 0.8, 0.9]"
   ]
  },
  {
   "cell_type": "code",
   "execution_count": 51,
   "metadata": {},
   "outputs": [
    {
     "name": "stdout",
     "output_type": "stream",
     "text": [
      "0.1 0.54484\n",
      "0.2 0.580665\n",
      "0.3 0.603475\n",
      "0.4 0.613305\n",
      "0.43 0.61458\n",
      "0.45 0.614885\n",
      "0.48 0.61494\n",
      "0.49 0.614555\n",
      "0.5 0.61443\n",
      "0.51 0.613975\n",
      "0.52 0.61404\n",
      "0.53 0.613185\n",
      "0.55 0.61228\n",
      "0.6 0.60929\n",
      "0.7 0.599965\n",
      "0.8 0.58739\n",
      "0.9 0.570195\n"
     ]
    }
   ],
   "source": [
    "### Would-cook baseline: just rank which recipes are popular and which are not, and return '1' if a recipe is among the top-ranked\n",
    "\n",
    "recipeCount = defaultdict(int)\n",
    "totalCooked = 0\n",
    "best_accuracy = 0\n",
    "better_threshold = 0\n",
    "\n",
    "for d in train:\n",
    "    user, recipe = d['user_id'], d['recipe_id']\n",
    "    recipeCount[recipe] += 1\n",
    "    totalCooked += 1\n",
    "\n",
    "mostPopular = [(recipeCount[x], x) for x in recipeCount]\n",
    "mostPopular.sort()\n",
    "mostPopular.reverse()\n",
    "\n",
    "for threshold in thresholds:\n",
    "    return1 = set()\n",
    "    count = 0\n",
    "    for ic, i in mostPopular:\n",
    "        count += ic\n",
    "        return1.add(i)\n",
    "        if count > (totalCooked * threshold): \n",
    "            break\n",
    "\n",
    "    correct_labels = 0\n",
    "    total_labels = 0\n",
    "    for d in newValidationDataset:\n",
    "        user, recipe, label = d\n",
    "        if recipe in return1:\n",
    "            prediction = 1\n",
    "        else:\n",
    "            prediction = 0\n",
    "\n",
    "        if prediction == label:\n",
    "            correct_labels += 1\n",
    "        total_labels += 1\n",
    "\n",
    "    accuracy = correct_labels/total_labels\n",
    "    print(threshold, accuracy)\n",
    "    if best_accuracy < accuracy:\n",
    "        best_accuracy = accuracy\n",
    "        better_threshold = threshold"
   ]
  },
  {
   "cell_type": "code",
   "execution_count": 52,
   "metadata": {},
   "outputs": [
    {
     "name": "stdout",
     "output_type": "stream",
     "text": [
      "0.61494\n",
      "0.48\n"
     ]
    }
   ],
   "source": [
    "print(best_accuracy)\n",
    "print(better_threshold)"
   ]
  },
  {
   "cell_type": "markdown",
   "metadata": {},
   "source": [
    "# Q3)"
   ]
  },
  {
   "cell_type": "code",
   "execution_count": 37,
   "metadata": {},
   "outputs": [],
   "source": [
    "userPerRecipeTrain = defaultdict(set)\n",
    "recipePerUserTrain = defaultdict(set)\n",
    "\n",
    "for datum in train:\n",
    "    user, recipe = datum['user_id'], datum['recipe_id']\n",
    "    userPerRecipeTrain[recipe].add(user)\n",
    "    recipePerUserTrain[user].add(recipe)"
   ]
  },
  {
   "cell_type": "code",
   "execution_count": 38,
   "metadata": {},
   "outputs": [],
   "source": [
    "def Jaccard(s1, s2):\n",
    "    numer = len(s1.intersection(s2))\n",
    "    denom = len(s1.union(s2))\n",
    "    if denom == 0:\n",
    "        return 0\n",
    "    return numer / denom"
   ]
  },
  {
   "cell_type": "code",
   "execution_count": 39,
   "metadata": {},
   "outputs": [],
   "source": [
    "def mostSimilar(recipe, N):\n",
    "    similarities = []\n",
    "    users = userPerRecipeTrain[recipe]\n",
    "    for i2 in userPerRecipeTrain:\n",
    "        if i2 == i: continue\n",
    "        sim = Jaccard(users, userPerRecipeTrain[i2])\n",
    "\n",
    "        similarities.append((sim,i2))\n",
    "    similarities.sort(key=lambda x: x[0], reverse=True)\n",
    "\n",
    "    return similarities[:N]"
   ]
  },
  {
   "cell_type": "code",
   "execution_count": 44,
   "metadata": {},
   "outputs": [],
   "source": [
    "sim_thresholds = [0.0, 0.1, 0.2, 0.3, 0.4, 0.5, 0.6, 0.7, 0.8, 0.9, 0.95]"
   ]
  },
  {
   "cell_type": "code",
   "execution_count": 45,
   "metadata": {},
   "outputs": [
    {
     "name": "stdout",
     "output_type": "stream",
     "text": [
      "0.0 0.596115\n",
      "0.1 0.521945\n",
      "0.2 0.514155\n",
      "0.3 0.5076\n",
      "0.4 0.502215\n",
      "0.5 0.498775\n",
      "0.6 0.49875\n",
      "0.7 0.49865\n",
      "0.8 0.498645\n",
      "0.9 0.498645\n",
      "0.95 0.498645\n",
      "0.596115 0.0\n"
     ]
    }
   ],
   "source": [
    "best_accuracy = 0\n",
    "best_threshold = 0\n",
    "for sim_threshold in sim_thresholds:\n",
    "    correct_labels = 0\n",
    "    total_labels = 0\n",
    "    for d in newValidationDataset:\n",
    "        user, recipe, label = d\n",
    "        \n",
    "        prediction = 0\n",
    "        for userRecipe in recipePerUserTrain[user]:\n",
    "            if Jaccard(userPerRecipeTrain[recipe], userPerRecipeTrain[userRecipe]) > sim_threshold:\n",
    "                prediction = 1\n",
    "                break\n",
    "\n",
    "        if prediction == label:\n",
    "            correct_labels += 1\n",
    "        total_labels += 1\n",
    "\n",
    "    accuracy = correct_labels/total_labels\n",
    "    print(sim_threshold, accuracy)\n",
    "    if best_accuracy < accuracy:\n",
    "        best_accuracy = accuracy\n",
    "        best_threshold = sim_threshold\n",
    "\n",
    "print(best_accuracy, best_threshold)"
   ]
  },
  {
   "cell_type": "markdown",
   "metadata": {},
   "source": [
    "# Q4)"
   ]
  },
  {
   "cell_type": "code",
   "execution_count": 46,
   "metadata": {},
   "outputs": [],
   "source": [
    "popularity_threshold = 0.48\n",
    "sim_threshold = 0.1"
   ]
  },
  {
   "cell_type": "code",
   "execution_count": 51,
   "metadata": {},
   "outputs": [],
   "source": [
    "### Would-cook baseline: just rank which recipes are popular and which are not, and return '1' if a recipe is among the top-ranked\n",
    "\n",
    "recipeCount = defaultdict(int)\n",
    "totalCooked = 0\n",
    "best_accuracy = 0\n",
    "better_threshold = 0\n",
    "\n",
    "for d in train:\n",
    "    user, recipe = d['user_id'], d['recipe_id']\n",
    "    recipeCount[recipe] += 1\n",
    "    totalCooked += 1\n",
    "\n",
    "mostPopular = [(recipeCount[x], x) for x in recipeCount]\n",
    "mostPopular.sort()\n",
    "mostPopular.reverse()\n",
    "\n",
    "\n",
    "return1 = set()\n",
    "count = 0\n",
    "for ic, i in mostPopular:\n",
    "    count += ic\n",
    "    return1.add(i)\n",
    "    if count > (totalCooked * popularity_threshold): \n",
    "        break\n",
    "        \n",
    "correct_labels = 0\n",
    "total_labels = 0\n",
    "for d in newValidationDataset:\n",
    "    user, recipe, label = d\n",
    "\n",
    "    prediction = 0\n",
    "    if recipe in return1:\n",
    "        prediction = 1\n",
    "    else:\n",
    "        for userRecipe in recipePerUserTrain[user]:\n",
    "            if Jaccard(userPerRecipeTrain[recipe], userPerRecipeTrain[userRecipe]) > sim_threshold:\n",
    "                prediction = 1\n",
    "                break\n",
    "\n",
    "    if prediction == label:\n",
    "        correct_labels += 1\n",
    "    total_labels += 1\n",
    "\n",
    "accuracy = correct_labels/total_labels"
   ]
  },
  {
   "cell_type": "code",
   "execution_count": 48,
   "metadata": {},
   "outputs": [
    {
     "name": "stdout",
     "output_type": "stream",
     "text": [
      "0.62531\n"
     ]
    }
   ],
   "source": [
    "print(accuracy)"
   ]
  },
  {
   "cell_type": "markdown",
   "metadata": {},
   "source": [
    "# Q5)"
   ]
  },
  {
   "cell_type": "code",
   "execution_count": 50,
   "metadata": {},
   "outputs": [],
   "source": [
    "### Would-cook baseline: just rank which recipes are popular and which are not, and return '1' if a recipe is among the top-ranked\n",
    "\n",
    "recipeCount = defaultdict(int)\n",
    "totalCooked = 0\n",
    "best_accuracy = 0\n",
    "better_threshold = 0\n",
    "\n",
    "for d in train:\n",
    "    user, recipe = d['user_id'], d['recipe_id']\n",
    "    recipeCount[recipe] += 1\n",
    "    totalCooked += 1\n",
    "\n",
    "mostPopular = [(recipeCount[x], x) for x in recipeCount]\n",
    "mostPopular.sort()\n",
    "mostPopular.reverse()\n",
    "\n",
    "\n",
    "return1 = set()\n",
    "count = 0\n",
    "for ic, i in mostPopular:\n",
    "    count += ic\n",
    "    return1.add(i)\n",
    "    if count > (totalCooked * popularity_threshold): \n",
    "        break\n",
    "        \n",
    "correct_labels = 0\n",
    "total_labels = 0\n",
    "\n",
    "predictions = open(\"predictions_Made.txt\", 'w')\n",
    "for l in open(\"stub_Made.txt\"):\n",
    "    if l.startswith(\"user_id\"):\n",
    "        #header\n",
    "        predictions.write(l)\n",
    "        continue\n",
    "    user, recipe = l.strip().split('-')\n",
    "    \n",
    "    prediction = 0\n",
    "    if recipe in return1:\n",
    "        prediction = 1\n",
    "    else:\n",
    "        for userRecipe in recipePerUserTrain[user]:\n",
    "            if Jaccard(userPerRecipeTrain[recipe], userPerRecipeTrain[userRecipe]) > sim_threshold:\n",
    "                prediction = 1\n",
    "                break\n",
    "    predictions.write(user + '-' + recipe + ',' + str(prediction) + '\\n')\n",
    "    \n",
    "predictions.close()"
   ]
  },
  {
   "cell_type": "markdown",
   "metadata": {},
   "source": [
    "Username: vktiwari33"
   ]
  },
  {
   "cell_type": "markdown",
   "metadata": {},
   "source": [
    "# Q9)"
   ]
  },
  {
   "cell_type": "code",
   "execution_count": 59,
   "metadata": {},
   "outputs": [],
   "source": [
    "from surprise import SVD, Reader, Dataset"
   ]
  },
  {
   "cell_type": "code",
   "execution_count": 54,
   "metadata": {},
   "outputs": [],
   "source": [
    "dataset = []"
   ]
  },
  {
   "cell_type": "code",
   "execution_count": 56,
   "metadata": {},
   "outputs": [],
   "source": [
    "allRatings = []\n",
    "userRatings = defaultdict(list)\n",
    "\n",
    "for user,recipe,d in readCSV(\"trainInteractions.csv.gz\"):\n",
    "    dataset.append(d)\n",
    "    r = int(d['rating'])\n",
    "    allRatings.append(r)\n",
    "    userRatings[user].append(r)"
   ]
  },
  {
   "cell_type": "code",
   "execution_count": 58,
   "metadata": {},
   "outputs": [],
   "source": [
    "train = dataset[:400000]\n",
    "valid = dataset[400000:]"
   ]
  },
  {
   "cell_type": "code",
   "execution_count": 67,
   "metadata": {},
   "outputs": [
    {
     "ename": "ValueError",
     "evalue": "line_format parameter is incorrect.",
     "output_type": "error",
     "traceback": [
      "\u001b[1;31m---------------------------------------------------------------------------\u001b[0m",
      "\u001b[1;31mValueError\u001b[0m                                Traceback (most recent call last)",
      "\u001b[1;32m~\\AppData\\Local\\Temp/ipykernel_8208/994743194.py\u001b[0m in \u001b[0;36m<module>\u001b[1;34m\u001b[0m\n\u001b[1;32m----> 1\u001b[1;33m \u001b[0mreader\u001b[0m \u001b[1;33m=\u001b[0m \u001b[0mReader\u001b[0m\u001b[1;33m(\u001b[0m\u001b[0mline_format\u001b[0m\u001b[1;33m=\u001b[0m\u001b[1;34m'user_id recipe_id date rating'\u001b[0m\u001b[1;33m,\u001b[0m \u001b[0msep\u001b[0m\u001b[1;33m=\u001b[0m\u001b[1;34m','\u001b[0m\u001b[1;33m)\u001b[0m\u001b[1;33m\u001b[0m\u001b[1;33m\u001b[0m\u001b[0m\n\u001b[0m\u001b[0;32m      2\u001b[0m \u001b[0mdata\u001b[0m \u001b[1;33m=\u001b[0m \u001b[0mDataset\u001b[0m\u001b[1;33m.\u001b[0m\u001b[0mload_from_file\u001b[0m\u001b[1;33m(\u001b[0m\u001b[1;34m\"trainInteractions.csv\"\u001b[0m\u001b[1;33m,\u001b[0m \u001b[0mreader\u001b[0m\u001b[1;33m=\u001b[0m\u001b[0mreader\u001b[0m\u001b[1;33m)\u001b[0m\u001b[1;33m\u001b[0m\u001b[1;33m\u001b[0m\u001b[0m\n",
      "\u001b[1;32mD:\\User\\Softwares\\Installed\\Anaconda3\\envs\\cse258\\lib\\site-packages\\surprise\\reader.py\u001b[0m in \u001b[0;36m__init__\u001b[1;34m(self, name, line_format, sep, rating_scale, skip_lines)\u001b[0m\n\u001b[0;32m     69\u001b[0m             \u001b[1;31m# check that all fields are correct\u001b[0m\u001b[1;33m\u001b[0m\u001b[1;33m\u001b[0m\u001b[1;33m\u001b[0m\u001b[0m\n\u001b[0;32m     70\u001b[0m             \u001b[1;32mif\u001b[0m \u001b[0many\u001b[0m\u001b[1;33m(\u001b[0m\u001b[0mfield\u001b[0m \u001b[1;32mnot\u001b[0m \u001b[1;32min\u001b[0m \u001b[0mentities\u001b[0m \u001b[1;32mfor\u001b[0m \u001b[0mfield\u001b[0m \u001b[1;32min\u001b[0m \u001b[0msplitted_format\u001b[0m\u001b[1;33m)\u001b[0m\u001b[1;33m:\u001b[0m\u001b[1;33m\u001b[0m\u001b[1;33m\u001b[0m\u001b[0m\n\u001b[1;32m---> 71\u001b[1;33m                 \u001b[1;32mraise\u001b[0m \u001b[0mValueError\u001b[0m\u001b[1;33m(\u001b[0m\u001b[1;34m'line_format parameter is incorrect.'\u001b[0m\u001b[1;33m)\u001b[0m\u001b[1;33m\u001b[0m\u001b[1;33m\u001b[0m\u001b[0m\n\u001b[0m\u001b[0;32m     72\u001b[0m \u001b[1;33m\u001b[0m\u001b[0m\n\u001b[0;32m     73\u001b[0m             self.indexes = [splitted_format.index(entity) for entity in\n",
      "\u001b[1;31mValueError\u001b[0m: line_format parameter is incorrect."
     ]
    }
   ],
   "source": [
    "reader = Reader(line_format='user_id recipe_id date rating', sep=',', skip_line1)\n",
    "data = Dataset.load_from_file(\"trainInteractions.csv\", reader=reader)"
   ]
  },
  {
   "cell_type": "code",
   "execution_count": 5,
   "metadata": {},
   "outputs": [],
   "source": [
    "### Rating baseline: compute averages for each user, or return the global average if we've never seen the user before\n",
    "\n",
    "allRatings = []\n",
    "userRatings = defaultdict(list)\n",
    "\n",
    "for user,recipe,d in readCSV(\"trainInteractions.csv.gz\"):\n",
    "    r = int(d['rating'])\n",
    "    allRatings.append(r)\n",
    "    userRatings[user].append(r)\n",
    "\n",
    "globalAverage = sum(allRatings) / len(allRatings)\n",
    "userAverage = {}\n",
    "for u in userRatings:\n",
    "    userAverage[u] = sum(userRatings[u]) / len(userRatings[u])\n",
    "\n",
    "predictions = open(\"predictions_Rated.txt\", 'w')\n",
    "for l in open(\"stub_Rated.txt\"):\n",
    "    if l.startswith(\"user_id\"):\n",
    "        #header\n",
    "        predictions.write(l)\n",
    "        continue\n",
    "    u,i = l.strip().split('-')\n",
    "    if u in userAverage:\n",
    "        predictions.write(u + '-' + i + ',' + str(userAverage[u]) + '\\n')\n",
    "    else:\n",
    "        predictions.write(u + '-' + i + ',' + str(globalAverage) + '\\n')\n",
    "\n",
    "predictions.close()"
   ]
  },
  {
   "cell_type": "code",
   "execution_count": null,
   "metadata": {},
   "outputs": [],
   "source": []
  }
 ],
 "metadata": {
  "kernelspec": {
   "display_name": "Python cse258",
   "language": "python",
   "name": "cse258"
  },
  "language_info": {
   "codemirror_mode": {
    "name": "ipython",
    "version": 3
   },
   "file_extension": ".py",
   "mimetype": "text/x-python",
   "name": "python",
   "nbconvert_exporter": "python",
   "pygments_lexer": "ipython3",
   "version": "3.8.11"
  }
 },
 "nbformat": 4,
 "nbformat_minor": 2
}
