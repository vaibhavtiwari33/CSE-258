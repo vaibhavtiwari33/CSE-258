{
 "cells": [
  {
   "cell_type": "code",
   "execution_count": 1,
   "metadata": {},
   "outputs": [],
   "source": [
    "import sklearn"
   ]
  },
  {
   "cell_type": "code",
   "execution_count": 2,
   "metadata": {},
   "outputs": [
    {
     "data": {
      "text/plain": [
       "'0.19.2'"
      ]
     },
     "execution_count": 2,
     "metadata": {},
     "output_type": "execute_result"
    }
   ],
   "source": [
    "sklearn.__version__"
   ]
  },
  {
   "cell_type": "code",
   "execution_count": 3,
   "metadata": {},
   "outputs": [
    {
     "name": "stdout",
     "output_type": "stream",
     "text": [
      "Requirement already satisfied: scikit-learn==0.24.2 in d:\\user\\softwares\\installed\\anaconda3\\envs\\cse258\\lib\\site-packages (0.24.2)\n",
      "Requirement already satisfied: numpy>=1.13.3 in d:\\user\\softwares\\installed\\anaconda3\\envs\\cse258\\lib\\site-packages (from scikit-learn==0.24.2) (1.20.3)\n",
      "Requirement already satisfied: scipy>=0.19.1 in d:\\user\\softwares\\installed\\anaconda3\\envs\\cse258\\lib\\site-packages (from scikit-learn==0.24.2) (1.6.2)\n",
      "Requirement already satisfied: joblib>=0.11 in d:\\user\\softwares\\installed\\anaconda3\\envs\\cse258\\lib\\site-packages (from scikit-learn==0.24.2) (1.0.1)\n",
      "Requirement already satisfied: threadpoolctl>=2.0.0 in d:\\user\\softwares\\installed\\anaconda3\\envs\\cse258\\lib\\site-packages (from scikit-learn==0.24.2) (2.1.0)\n"
     ]
    }
   ],
   "source": [
    "!pip install scikit-learn==0.24.2"
   ]
  },
  {
   "cell_type": "code",
   "execution_count": null,
   "metadata": {},
   "outputs": [],
   "source": []
  }
 ],
 "metadata": {
  "kernelspec": {
   "display_name": "Python 3",
   "language": "python",
   "name": "python3"
  },
  "language_info": {
   "codemirror_mode": {
    "name": "ipython",
    "version": 3
   },
   "file_extension": ".py",
   "mimetype": "text/x-python",
   "name": "python",
   "nbconvert_exporter": "python",
   "pygments_lexer": "ipython3",
   "version": "3.7.0"
  }
 },
 "nbformat": 4,
 "nbformat_minor": 2
}
