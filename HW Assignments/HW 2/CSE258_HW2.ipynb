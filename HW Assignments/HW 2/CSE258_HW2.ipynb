{
 "cells": [
  {
   "cell_type": "code",
   "execution_count": 172,
   "metadata": {},
   "outputs": [],
   "source": [
    "import datetime\n",
    "import gzip\n",
    "import json\n",
    "import math\n",
    "import random\n",
    "from collections import defaultdict"
   ]
  },
  {
   "cell_type": "code",
   "execution_count": 2,
   "metadata": {},
   "outputs": [],
   "source": [
    "review_file = 'goodreads_reviews_comics_graphic.json'\n",
    "compressed_file = review_file + '.gz'"
   ]
  },
  {
   "cell_type": "code",
   "execution_count": 57,
   "metadata": {},
   "outputs": [],
   "source": [
    "path = compressed_file\n",
    "f = gzip.open(path, 'rt', encoding=\"utf8\")"
   ]
  },
  {
   "cell_type": "code",
   "execution_count": 58,
   "metadata": {},
   "outputs": [],
   "source": [
    "dataset = []\n",
    "\n",
    "for line in f:\n",
    "    d = json.loads(line)\n",
    "    #d = dict(zip(header, fields))\n",
    "    d['rating'] = int(d['rating'])\n",
    "    d['n_comments'] = int(d['n_comments'])\n",
    "    d['n_votes'] = int(d['n_votes'])\n",
    "    dataset.append(d)"
   ]
  },
  {
   "cell_type": "code",
   "execution_count": 59,
   "metadata": {},
   "outputs": [],
   "source": [
    "usersPerItem = defaultdict(set) # Maps an item to the users who rated it\n",
    "itemsPerUser = defaultdict(set) # Maps a user to the items that they rated\n",
    "itemNames = {}\n",
    "ratingDict = {} # To retrieve a rating for a specific user/item pair\n",
    "\n",
    "for d in dataset:\n",
    "    user,item = d['user_id'], d['book_id']\n",
    "    usersPerItem[item].add(user)\n",
    "    itemsPerUser[user].add(item)\n",
    "    ratingDict[(user,item)] = d['rating']\n",
    "    itemNames[item] = d['review_text']"
   ]
  },
  {
   "cell_type": "code",
   "execution_count": 84,
   "metadata": {},
   "outputs": [],
   "source": [
    "userAverages = {}\n",
    "itemAverages = {}\n",
    "\n",
    "for u in itemsPerUser:\n",
    "    rs = [ratingDict[(u,i)] for i in itemsPerUser[u]]\n",
    "    userAverages[u] = sum(rs) / len(rs)\n",
    "    \n",
    "for i in usersPerItem:\n",
    "    rs = [ratingDict[(u,i)] for u in usersPerItem[i]]\n",
    "    itemAverages[i] = sum(rs) / len(rs)"
   ]
  },
  {
   "cell_type": "code",
   "execution_count": 8,
   "metadata": {},
   "outputs": [],
   "source": [
    "def Jaccard(s1, s2):\n",
    "    numer = len(s1.intersection(s2))\n",
    "    denom = len(s1.union(s2))\n",
    "    if denom == 0:\n",
    "        return 0\n",
    "    return numer / denom"
   ]
  },
  {
   "cell_type": "code",
   "execution_count": 104,
   "metadata": {},
   "outputs": [],
   "source": [
    "def mostSimilar(i, N):\n",
    "    similarities = []\n",
    "    users = usersPerItem[i]\n",
    "    for i2 in usersPerItem:\n",
    "        if i2 == i: continue\n",
    "        sim = Jaccard(users, usersPerItem[i2])\n",
    "        #sim = Pearson(i, i2) # Could use alternate similarity metrics straightforwardly\n",
    "        similarities.append((sim,i2))\n",
    "    similarities.sort(key=lambda x: x[0], reverse=True)\n",
    "    #sorted(similarities, key=lambda x: x[0], reverse=True)\n",
    "    return similarities[:N]"
   ]
  },
  {
   "cell_type": "markdown",
   "metadata": {},
   "source": [
    "## Q1"
   ]
  },
  {
   "cell_type": "code",
   "execution_count": 30,
   "metadata": {},
   "outputs": [
    {
     "data": {
      "text/plain": [
       "[(0.16666666666666666, '25334626'),\n",
       " (0.14285714285714285, '25659811'),\n",
       " (0.13793103448275862, '18369278'),\n",
       " (0.13157894736842105, '18430205'),\n",
       " (0.12903225806451613, '20299669'),\n",
       " (0.125, '17995154'),\n",
       " (0.12121212121212122, '18853527'),\n",
       " (0.12121212121212122, '23093378'),\n",
       " (0.12121212121212122, '23241671'),\n",
       " (0.11764705882352941, '26778333')]"
      ]
     },
     "execution_count": 30,
     "metadata": {},
     "output_type": "execute_result"
    }
   ],
   "source": [
    "mostSimilar('18471619', 10)"
   ]
  },
  {
   "cell_type": "markdown",
   "metadata": {},
   "source": [
    "## Q2"
   ]
  },
  {
   "cell_type": "code",
   "execution_count": 150,
   "metadata": {},
   "outputs": [],
   "source": [
    "original_user = 'dc3763cdb9b2cae805882878eebb6a32'"
   ]
  },
  {
   "cell_type": "markdown",
   "metadata": {},
   "source": [
    "### a)"
   ]
  },
  {
   "cell_type": "code",
   "execution_count": 119,
   "metadata": {},
   "outputs": [
    {
     "data": {
      "text/plain": [
       "[(0.16666666666666666, '25334626'),\n",
       " (0.14285714285714285, '25659811'),\n",
       " (0.13793103448275862, '18369278'),\n",
       " (0.13157894736842105, '18430205'),\n",
       " (0.12903225806451613, '20299669'),\n",
       " (0.125, '17995154'),\n",
       " (0.12121212121212122, '18853527'),\n",
       " (0.12121212121212122, '23093378'),\n",
       " (0.12121212121212122, '23241671'),\n",
       " (0.11764705882352941, '26778333')]"
      ]
     },
     "execution_count": 119,
     "metadata": {},
     "output_type": "execute_result"
    }
   ],
   "source": [
    "mostSimilar(getFavouriteItem(original_user), 10)"
   ]
  },
  {
   "cell_type": "markdown",
   "metadata": {},
   "source": [
    "### b)"
   ]
  },
  {
   "cell_type": "code",
   "execution_count": 148,
   "metadata": {},
   "outputs": [],
   "source": [
    "def mostSimilarUsers(base_user, N):\n",
    "    similarities = []\n",
    "    items = itemsPerUser[base_user]\n",
    "    for user in itemsPerUser:\n",
    "        if base_user == user: continue\n",
    "        sim = Jaccard(items, itemsPerUser[user])\n",
    "        similarities.append((sim, user))\n",
    "    similarities.sort(key=lambda x: x[0], reverse=True)\n",
    "    #sorted(similarities, key=lambda x: x[0], reverse=True)\n",
    "    return similarities"
   ]
  },
  {
   "cell_type": "code",
   "execution_count": 152,
   "metadata": {},
   "outputs": [],
   "source": [
    "similarUsers = [item[1] for item in mostSimilarUsers(original_user, 10)]"
   ]
  },
  {
   "cell_type": "code",
   "execution_count": 155,
   "metadata": {},
   "outputs": [],
   "source": [
    "def getFavouriteItem(user):\n",
    "    itemlist = [item for item in itemsPerUser[user] if item not in itemsPerUser[original_user]]\n",
    "    ratinglist = [(ratingDict[(user, item)], item) for item in itemlist]\n",
    "    if len(ratinglist) == 0:\n",
    "        return None\n",
    "    else:\n",
    "        return max(ratinglist)[1]"
   ]
  },
  {
   "cell_type": "code",
   "execution_count": 158,
   "metadata": {},
   "outputs": [
    {
     "data": {
      "text/plain": [
       "['5805',\n",
       " '23531233',\n",
       " '59715',\n",
       " '7736086',\n",
       " '22454333',\n",
       " '47558',\n",
       " '9516',\n",
       " '9041662',\n",
       " '991197',\n",
       " '7805977']"
      ]
     },
     "execution_count": 158,
     "metadata": {},
     "output_type": "execute_result"
    }
   ],
   "source": [
    "itemList = [getFavouriteItem(user) for user in similarUsers]\n",
    "itemList = [item for item in itemList if item is not None]\n",
    "itemList[:10]"
   ]
  },
  {
   "cell_type": "markdown",
   "metadata": {},
   "source": [
    "## Q3"
   ]
  },
  {
   "cell_type": "code",
   "execution_count": 64,
   "metadata": {},
   "outputs": [],
   "source": [
    "def PearsonA(i1, i2):\n",
    "    iBar1 = itemAverages[i1]\n",
    "    iBar2 = itemAverages[i2]\n",
    "    inter = usersPerItem[i1].intersection(usersPerItem[i2])\n",
    "    numer = 0\n",
    "    denom1 = 0\n",
    "    denom2 = 0\n",
    "    for u in inter:\n",
    "        numer += (ratingDict[(u,i1)] - iBar1)*(ratingDict[(u,i2)] - iBar2)\n",
    "    for u in inter:\n",
    "        denom1 += (ratingDict[(u,i1)] - iBar1)**2\n",
    "    for u in inter:\n",
    "        denom2 += (ratingDict[(u,i2)] - iBar2)**2\n",
    "    denom = math.sqrt(denom1) * math.sqrt(denom2)\n",
    "    if denom == 0: return 0\n",
    "    return numer / denom"
   ]
  },
  {
   "cell_type": "code",
   "execution_count": 73,
   "metadata": {},
   "outputs": [],
   "source": [
    "def PearsonB(i1, i2):\n",
    "    iBar1 = itemAverages[i1]\n",
    "    iBar2 = itemAverages[i2]\n",
    "    inter = usersPerItem[i1].intersection(usersPerItem[i2])\n",
    "    numer = 0\n",
    "    denom1 = 0\n",
    "    denom2 = 0\n",
    "    for u in inter:\n",
    "        numer += (ratingDict[(u,i1)] - iBar1)*(ratingDict[(u,i2)] - iBar2)\n",
    "    for u in usersPerItem[i1]:\n",
    "        denom1 += (ratingDict[(u,i1)] - iBar1)**2\n",
    "    for u in usersPerItem[i2]:\n",
    "        denom2 += (ratingDict[(u,i2)] - iBar2)**2\n",
    "    denom = math.sqrt(denom1) * math.sqrt(denom2)\n",
    "    if denom == 0: \n",
    "        return 0\n",
    "    return numer / denom"
   ]
  },
  {
   "cell_type": "code",
   "execution_count": 74,
   "metadata": {},
   "outputs": [],
   "source": [
    "def mostSimilar(i, N, similarityFunc):\n",
    "    similarities = []\n",
    "    \n",
    "    for i2 in usersPerItem:\n",
    "        if i2 == i: continue\n",
    "        sim = similarityFunc(i, i2)\n",
    "        similarities.append((sim,i2))\n",
    "    similarities.sort(key=lambda x: x[0], reverse=True)\n",
    "    #sorted(similarities, key=lambda x: x[0], reverse=True)\n",
    "    return similarities[:N]"
   ]
  },
  {
   "cell_type": "markdown",
   "metadata": {},
   "source": [
    "### a)"
   ]
  },
  {
   "cell_type": "code",
   "execution_count": 71,
   "metadata": {},
   "outputs": [
    {
     "data": {
      "text/plain": [
       "[(1.0000000000000002, '62953'),\n",
       " (1.0000000000000002, '29431094'),\n",
       " (1.0000000000000002, '23200006'),\n",
       " (1.0000000000000002, '23332879'),\n",
       " (1.0000000000000002, '23901106'),\n",
       " (1.0000000000000002, '7342071'),\n",
       " (1.0000000000000002, '3328828'),\n",
       " (1.0000000000000002, '993861'),\n",
       " (1.0000000000000002, '26251358'),\n",
       " (1.0000000000000002, '23131087')]"
      ]
     },
     "execution_count": 71,
     "metadata": {},
     "output_type": "execute_result"
    }
   ],
   "source": [
    "mostSimilar('18471619', 10, PearsonA)"
   ]
  },
  {
   "cell_type": "markdown",
   "metadata": {},
   "source": [
    "### b)"
   ]
  },
  {
   "cell_type": "code",
   "execution_count": 75,
   "metadata": {},
   "outputs": [
    {
     "data": {
      "text/plain": [
       "[(0.31898549007874194, '20300526'),\n",
       " (0.18785865431369264, '13280885'),\n",
       " (0.17896391275176457, '18208501'),\n",
       " (0.16269036695641687, '21521612'),\n",
       " (0.16269036695641687, '25430791'),\n",
       " (0.1555075595594449, '1341758'),\n",
       " (0.1526351566298752, '6314737'),\n",
       " (0.15204888048160353, '4009034'),\n",
       " (0.1494406444160154, '988744'),\n",
       " (0.14632419481281997, '18430205')]"
      ]
     },
     "execution_count": 75,
     "metadata": {},
     "output_type": "execute_result"
    }
   ],
   "source": [
    "mostSimilar('18471619', 10, PearsonB)"
   ]
  },
  {
   "cell_type": "markdown",
   "metadata": {},
   "source": [
    "## Q4"
   ]
  },
  {
   "cell_type": "code",
   "execution_count": 76,
   "metadata": {},
   "outputs": [],
   "source": [
    "reviewsPerUser = defaultdict(list)\n",
    "reviewsPerItem = defaultdict(list)"
   ]
  },
  {
   "cell_type": "code",
   "execution_count": 78,
   "metadata": {},
   "outputs": [],
   "source": [
    "for d in dataset:\n",
    "    user,item = d['user_id'], d['book_id']\n",
    "    reviewsPerUser[user].append(d)\n",
    "    reviewsPerItem[item].append(d)"
   ]
  },
  {
   "cell_type": "code",
   "execution_count": 80,
   "metadata": {},
   "outputs": [],
   "source": [
    "ratingMean = sum([d['rating'] for d in dataset]) / len(dataset)"
   ]
  },
  {
   "cell_type": "code",
   "execution_count": 85,
   "metadata": {},
   "outputs": [],
   "source": [
    "def predictRating(user, item):\n",
    "    ratings = []\n",
    "    similarities = []\n",
    "    for d in reviewsPerUser[user]:\n",
    "        i2 = d['book_id']\n",
    "        if i2 == item: continue\n",
    "        ratings.append(d['rating'] - itemAverages[i2])\n",
    "        similarities.append(Jaccard(usersPerItem[item],usersPerItem[i2]))\n",
    "    if (sum(similarities) > 0):\n",
    "        weightedRatings = [(x*y) for x,y in zip(ratings,similarities)]\n",
    "        N = len(usersPerItem[item])\n",
    "        return ((itemAverages[item] * N - ratingDict[(user, item)])/(N - 1)) + sum(weightedRatings) / sum(similarities)\n",
    "    else:\n",
    "        return ratingMean"
   ]
  },
  {
   "cell_type": "code",
   "execution_count": 189,
   "metadata": {},
   "outputs": [],
   "source": [
    "def MSE(predictions, labels):\n",
    "    differences = [(x-y)**2 for x,y in zip(predictions,labels)]\n",
    "    return sum(differences) / len(differences)"
   ]
  },
  {
   "cell_type": "code",
   "execution_count": 159,
   "metadata": {},
   "outputs": [],
   "source": [
    "samples = 0\n",
    "val = 0\n",
    "for user in itemsPerUser:\n",
    "    for item in itemsPerUser[user]:\n",
    "        val += pow(ratingDict[(user, item)] - predictRating(user, item), 2)\n",
    "        samples += 1\n",
    "        if samples >= 10000:\n",
    "            break\n",
    "    if samples >= 10000:\n",
    "        break\n",
    "\n",
    "MSE_val = val / samples"
   ]
  },
  {
   "cell_type": "code",
   "execution_count": 160,
   "metadata": {},
   "outputs": [
    {
     "data": {
      "text/plain": [
       "0.712368110932227"
      ]
     },
     "execution_count": 160,
     "metadata": {},
     "output_type": "execute_result"
    }
   ],
   "source": [
    "MSE_val"
   ]
  },
  {
   "cell_type": "markdown",
   "metadata": {},
   "source": [
    "## Q5"
   ]
  },
  {
   "cell_type": "code",
   "execution_count": 175,
   "metadata": {},
   "outputs": [],
   "source": [
    "timingDict = {}\n",
    "date_format = \"%a %b %d %H:%M:%S %z %Y\"\n",
    "for d in dataset:\n",
    "    timingDict[(d['user_id'], d['book_id'])] = datetime.datetime.strptime(d['date_updated'], date_format).timestamp()"
   ]
  },
  {
   "cell_type": "code",
   "execution_count": 184,
   "metadata": {},
   "outputs": [],
   "source": [
    "timingList = [timingDict[key] for key in timingDict]\n",
    "timingList.sort(reverse=True)\n",
    "latestTime = timingList[0]"
   ]
  },
  {
   "cell_type": "code",
   "execution_count": 185,
   "metadata": {},
   "outputs": [
    {
     "data": {
      "text/plain": [
       "1509911734.0"
      ]
     },
     "execution_count": 185,
     "metadata": {},
     "output_type": "execute_result"
    }
   ],
   "source": [
    "latestTime"
   ]
  },
  {
   "cell_type": "code",
   "execution_count": 196,
   "metadata": {},
   "outputs": [],
   "source": [
    "import math"
   ]
  },
  {
   "cell_type": "code",
   "execution_count": 234,
   "metadata": {},
   "outputs": [],
   "source": [
    "def timeFunc(time, l=0.00000001):\n",
    "    return math.exp(-l * time)"
   ]
  },
  {
   "cell_type": "code",
   "execution_count": 235,
   "metadata": {},
   "outputs": [],
   "source": [
    "def predictTimeBasedRating(user, item):\n",
    "    ratings = []\n",
    "    similarities = []\n",
    "    for d in reviewsPerUser[user]:\n",
    "        i2 = d['book_id']\n",
    "        if i2 == item: continue\n",
    "        ratings.append((d['rating'] - itemAverages[i2]))\n",
    "        similarities.append(Jaccard(usersPerItem[item], usersPerItem[i2]) * timeFunc(abs(timingDict[(user, i2)] - timingDict[(user, item)])))\n",
    "    if (sum(similarities) > 0):\n",
    "        weightedRatings = [(x*y) for x,y in zip(ratings,similarities)]\n",
    "        N = len(usersPerItem[item])\n",
    "        return itemAverages[item] + sum(weightedRatings) / sum(similarities)\n",
    "    else:\n",
    "        return ratingMean"
   ]
  },
  {
   "cell_type": "code",
   "execution_count": 236,
   "metadata": {},
   "outputs": [],
   "source": [
    "samples = 0\n",
    "val = 0\n",
    "for user in itemsPerUser:\n",
    "    for item in itemsPerUser[user]:\n",
    "        val += pow(ratingDict[(user, item)] - predictTimeBasedRating(user, item), 2)\n",
    "        samples += 1\n",
    "        if samples >= 10000:\n",
    "            break\n",
    "    if samples >= 10000:\n",
    "        break\n",
    "\n",
    "MSE_val = val / samples"
   ]
  },
  {
   "cell_type": "code",
   "execution_count": 237,
   "metadata": {},
   "outputs": [
    {
     "data": {
      "text/plain": [
       "0.7047761113627481"
      ]
     },
     "execution_count": 237,
     "metadata": {},
     "output_type": "execute_result"
    }
   ],
   "source": [
    "MSE_val"
   ]
  },
  {
   "cell_type": "code",
   "execution_count": null,
   "metadata": {},
   "outputs": [],
   "source": []
  }
 ],
 "metadata": {
  "kernelspec": {
   "display_name": "Python cse258",
   "language": "python",
   "name": "cse258"
  },
  "language_info": {
   "codemirror_mode": {
    "name": "ipython",
    "version": 3
   },
   "file_extension": ".py",
   "mimetype": "text/x-python",
   "name": "python",
   "nbconvert_exporter": "python",
   "pygments_lexer": "ipython3",
   "version": "3.8.11"
  }
 },
 "nbformat": 4,
 "nbformat_minor": 2
}
