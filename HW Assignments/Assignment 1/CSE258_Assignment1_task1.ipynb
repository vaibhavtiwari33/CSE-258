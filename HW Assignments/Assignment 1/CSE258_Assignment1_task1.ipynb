{
 "cells": [
  {
   "cell_type": "code",
   "execution_count": 1,
   "metadata": {},
   "outputs": [],
   "source": [
    "import gzip\n",
    "from collections import defaultdict\n",
    "from sklearn import linear_model\n",
    "import csv\n",
    "import json"
   ]
  },
  {
   "cell_type": "code",
   "execution_count": 2,
   "metadata": {},
   "outputs": [],
   "source": [
    "import numpy as np\n",
    "import pandas as pd\n",
    "import random"
   ]
  },
  {
   "cell_type": "code",
   "execution_count": 3,
   "metadata": {},
   "outputs": [],
   "source": [
    "from sklearn.preprocessing import OneHotEncoder\n",
    "from sklearn.feature_extraction import FeatureHasher"
   ]
  },
  {
   "cell_type": "code",
   "execution_count": 4,
   "metadata": {},
   "outputs": [],
   "source": [
    "def readGz(path):\n",
    "    for l in gzip.open(path, 'rt'):\n",
    "        yield eval(l)"
   ]
  },
  {
   "cell_type": "code",
   "execution_count": 5,
   "metadata": {},
   "outputs": [],
   "source": [
    "def readCSV(path):\n",
    "    f = gzip.open(path, 'rt')\n",
    "    c = csv.reader(f)\n",
    "    header = next(c)\n",
    "    for l in c:\n",
    "        d = dict(zip(header,l))\n",
    "        yield d['user_id'],d['recipe_id'],d"
   ]
  },
  {
   "cell_type": "code",
   "execution_count": 6,
   "metadata": {},
   "outputs": [],
   "source": [
    "def loadCSV(path):\n",
    "    f = gzip.open(path, 'rt')\n",
    "    c = csv.reader(f)\n",
    "    header = next(c)\n",
    "    dataset = []\n",
    "    for line in c:\n",
    "        d = dict(zip(header, line))\n",
    "        dataset.append(d)\n",
    "    return dataset"
   ]
  },
  {
   "cell_type": "markdown",
   "metadata": {},
   "source": [
    "# Q1)"
   ]
  },
  {
   "cell_type": "code",
   "execution_count": 7,
   "metadata": {},
   "outputs": [],
   "source": [
    "dataset = loadCSV('trainInteractions.csv.gz')"
   ]
  },
  {
   "cell_type": "code",
   "execution_count": 8,
   "metadata": {},
   "outputs": [
    {
     "name": "stdout",
     "output_type": "stream",
     "text": [
      "{'user_id': '88348277', 'recipe_id': '03969194', 'date': '2004-12-23', 'rating': '5'}\n"
     ]
    }
   ],
   "source": [
    "recipeCount = defaultdict(int)\n",
    "totalCooked = 0\n",
    "\n",
    "for user,recipe,d in readCSV(\"trainInteractions.csv.gz\"):\n",
    "    print(d)\n",
    "    recipeCount[recipe] += 1\n",
    "    totalCooked += 1\n",
    "    break"
   ]
  },
  {
   "cell_type": "code",
   "execution_count": 9,
   "metadata": {},
   "outputs": [
    {
     "data": {
      "text/plain": [
       "500000"
      ]
     },
     "execution_count": 9,
     "metadata": {},
     "output_type": "execute_result"
    }
   ],
   "source": [
    "len(dataset)"
   ]
  },
  {
   "cell_type": "code",
   "execution_count": 10,
   "metadata": {},
   "outputs": [],
   "source": [
    "train = dataset[:400000]\n",
    "validation = dataset[400000:]"
   ]
  },
  {
   "cell_type": "code",
   "execution_count": 11,
   "metadata": {},
   "outputs": [],
   "source": [
    "userPerRecipeValid = defaultdict(set)\n",
    "recipePerUserValid = defaultdict(set)\n",
    "recipeListValid = set([])\n",
    "newValidationDataset = []\n",
    "\n",
    "for datum in validation:\n",
    "    user, recipe = datum['user_id'], datum['recipe_id']\n",
    "    userPerRecipeValid[recipe].add(user)\n",
    "    recipePerUserValid[user].add(recipe)\n",
    "    recipeListValid.add(recipe)\n",
    "\n",
    "recipeListValid = list(recipeListValid)\n",
    "recipeListSize = len(recipeListValid)\n",
    "for datum in validation:\n",
    "    user, recipe = datum['user_id'], datum['recipe_id']\n",
    "    newValidationDataset.append((user, recipe, 1))\n",
    "    \n",
    "    while True:\n",
    "        index = random.randint(0, recipeListSize - 1)\n",
    "        if recipeListValid[index] not in recipePerUserValid[user]:\n",
    "            break\n",
    "    \n",
    "    newValidationDataset.append((user, recipeListValid[index], 0))"
   ]
  },
  {
   "cell_type": "code",
   "execution_count": 12,
   "metadata": {},
   "outputs": [
    {
     "data": {
      "text/plain": [
       "200000"
      ]
     },
     "execution_count": 12,
     "metadata": {},
     "output_type": "execute_result"
    }
   ],
   "source": [
    "len(newValidationDataset)"
   ]
  },
  {
   "cell_type": "code",
   "execution_count": 13,
   "metadata": {},
   "outputs": [
    {
     "data": {
      "text/plain": [
       "[('90764166', '01768679', 1),\n",
       " ('90764166', '37491110', 0),\n",
       " ('68112239', '24923981', 1),\n",
       " ('68112239', '00151203', 0),\n",
       " ('32173358', '57597698', 1),\n",
       " ('32173358', '84597845', 0),\n",
       " ('30893740', '16266088', 1),\n",
       " ('30893740', '65277011', 0),\n",
       " ('69780905', '62953151', 1),\n",
       " ('69780905', '92436697', 0)]"
      ]
     },
     "execution_count": 13,
     "metadata": {},
     "output_type": "execute_result"
    }
   ],
   "source": [
    "newValidationDataset[:10]"
   ]
  },
  {
   "cell_type": "code",
   "execution_count": 35,
   "metadata": {},
   "outputs": [],
   "source": [
    "### Would-cook baseline: just rank which recipes are popular and which are not, and return '1' if a recipe is among the top-ranked\n",
    "\n",
    "recipeCount = defaultdict(int)\n",
    "totalCooked = 0\n",
    "\n",
    "for d in train:\n",
    "    user, recipe = d['user_id'], d['recipe_id']\n",
    "    recipeCount[recipe] += 1\n",
    "    totalCooked += 1\n",
    "\n",
    "mostPopular = [(recipeCount[x], x) for x in recipeCount]\n",
    "mostPopular.sort()\n",
    "mostPopular.reverse()\n",
    "\n",
    "return1 = set()\n",
    "count = 0\n",
    "for ic, i in mostPopular:\n",
    "    count += ic\n",
    "    return1.add(i)\n",
    "    if count > totalCooked/2: break\n",
    "\n",
    "correct_labels = 0\n",
    "total_labels = 0\n",
    "for d in newValidationDataset:\n",
    "    user, recipe, label = d\n",
    "    if recipe in return1:\n",
    "        prediction = 1\n",
    "    else:\n",
    "        prediction = 0\n",
    "    \n",
    "    if prediction == label:\n",
    "        correct_labels += 1\n",
    "    total_labels += 1\n",
    "\n",
    "accuracy = correct_labels/total_labels"
   ]
  },
  {
   "cell_type": "code",
   "execution_count": 36,
   "metadata": {},
   "outputs": [
    {
     "data": {
      "text/plain": [
       "0.61539"
      ]
     },
     "execution_count": 36,
     "metadata": {},
     "output_type": "execute_result"
    }
   ],
   "source": [
    "accuracy"
   ]
  },
  {
   "cell_type": "markdown",
   "metadata": {},
   "source": [
    "# Q2)"
   ]
  },
  {
   "cell_type": "code",
   "execution_count": 50,
   "metadata": {},
   "outputs": [],
   "source": [
    "thresholds = [0.1, 0.2, 0.3, 0.4, 0.43, 0.45, 0.48, 0.49, 0.5, 0.51, 0.52, 0.53, 0.55, 0.6, 0.7, 0.8, 0.9]"
   ]
  },
  {
   "cell_type": "code",
   "execution_count": 51,
   "metadata": {},
   "outputs": [
    {
     "name": "stdout",
     "output_type": "stream",
     "text": [
      "0.1 0.54484\n",
      "0.2 0.580665\n",
      "0.3 0.603475\n",
      "0.4 0.613305\n",
      "0.43 0.61458\n",
      "0.45 0.614885\n",
      "0.48 0.61494\n",
      "0.49 0.614555\n",
      "0.5 0.61443\n",
      "0.51 0.613975\n",
      "0.52 0.61404\n",
      "0.53 0.613185\n",
      "0.55 0.61228\n",
      "0.6 0.60929\n",
      "0.7 0.599965\n",
      "0.8 0.58739\n",
      "0.9 0.570195\n"
     ]
    }
   ],
   "source": [
    "### Would-cook baseline: just rank which recipes are popular and which are not, and return '1' if a recipe is among the top-ranked\n",
    "\n",
    "recipeCount = defaultdict(int)\n",
    "totalCooked = 0\n",
    "best_accuracy = 0\n",
    "better_threshold = 0\n",
    "\n",
    "for d in train:\n",
    "    user, recipe = d['user_id'], d['recipe_id']\n",
    "    recipeCount[recipe] += 1\n",
    "    totalCooked += 1\n",
    "\n",
    "mostPopular = [(recipeCount[x], x) for x in recipeCount]\n",
    "mostPopular.sort()\n",
    "mostPopular.reverse()\n",
    "\n",
    "for threshold in thresholds:\n",
    "    return1 = set()\n",
    "    count = 0\n",
    "    for ic, i in mostPopular:\n",
    "        count += ic\n",
    "        return1.add(i)\n",
    "        if count > (totalCooked * threshold): \n",
    "            break\n",
    "\n",
    "    correct_labels = 0\n",
    "    total_labels = 0\n",
    "    for d in newValidationDataset:\n",
    "        user, recipe, label = d\n",
    "        if recipe in return1:\n",
    "            prediction = 1\n",
    "        else:\n",
    "            prediction = 0\n",
    "\n",
    "        if prediction == label:\n",
    "            correct_labels += 1\n",
    "        total_labels += 1\n",
    "\n",
    "    accuracy = correct_labels/total_labels\n",
    "    print(threshold, accuracy)\n",
    "    if best_accuracy < accuracy:\n",
    "        best_accuracy = accuracy\n",
    "        better_threshold = threshold"
   ]
  },
  {
   "cell_type": "code",
   "execution_count": 52,
   "metadata": {},
   "outputs": [
    {
     "name": "stdout",
     "output_type": "stream",
     "text": [
      "0.61494\n",
      "0.48\n"
     ]
    }
   ],
   "source": [
    "print(best_accuracy)\n",
    "print(better_threshold)"
   ]
  },
  {
   "cell_type": "markdown",
   "metadata": {},
   "source": [
    "# Q3)"
   ]
  },
  {
   "cell_type": "code",
   "execution_count": 13,
   "metadata": {},
   "outputs": [],
   "source": [
    "userPerRecipeTrain = defaultdict(set)\n",
    "recipePerUserTrain = defaultdict(set)\n",
    "\n",
    "for datum in train:\n",
    "    user, recipe = datum['user_id'], datum['recipe_id']\n",
    "    userPerRecipeTrain[recipe].add(user)\n",
    "    recipePerUserTrain[user].add(recipe)"
   ]
  },
  {
   "cell_type": "code",
   "execution_count": 14,
   "metadata": {},
   "outputs": [],
   "source": [
    "def Jaccard(s1, s2):\n",
    "    numer = len(s1.intersection(s2))\n",
    "    denom = len(s1.union(s2))\n",
    "    if denom == 0:\n",
    "        return 0\n",
    "    return numer / denom"
   ]
  },
  {
   "cell_type": "code",
   "execution_count": 15,
   "metadata": {},
   "outputs": [],
   "source": [
    "def mostSimilar(recipe, N):\n",
    "    similarities = []\n",
    "    users = userPerRecipeTrain[recipe]\n",
    "    for i2 in userPerRecipeTrain:\n",
    "        if i2 == i: continue\n",
    "        sim = Jaccard(users, userPerRecipeTrain[i2])\n",
    "\n",
    "        similarities.append((sim,i2))\n",
    "    similarities.sort(key=lambda x: x[0], reverse=True)\n",
    "\n",
    "    return similarities[:N]"
   ]
  },
  {
   "cell_type": "code",
   "execution_count": 44,
   "metadata": {},
   "outputs": [],
   "source": [
    "sim_thresholds = [0.0, 0.1, 0.2, 0.3, 0.4, 0.5, 0.6, 0.7, 0.8, 0.9, 0.95]"
   ]
  },
  {
   "cell_type": "code",
   "execution_count": 22,
   "metadata": {},
   "outputs": [
    {
     "data": {
      "text/plain": [
       "[('90764166', '01768679', 1), ('90764166', '37491110', 0)]"
      ]
     },
     "execution_count": 22,
     "metadata": {},
     "output_type": "execute_result"
    }
   ],
   "source": [
    "newValidationDataset[:2]"
   ]
  },
  {
   "cell_type": "code",
   "execution_count": 45,
   "metadata": {},
   "outputs": [
    {
     "name": "stdout",
     "output_type": "stream",
     "text": [
      "0.0 0.596115\n",
      "0.1 0.521945\n",
      "0.2 0.514155\n",
      "0.3 0.5076\n",
      "0.4 0.502215\n",
      "0.5 0.498775\n",
      "0.6 0.49875\n",
      "0.7 0.49865\n",
      "0.8 0.498645\n",
      "0.9 0.498645\n",
      "0.95 0.498645\n",
      "0.596115 0.0\n"
     ]
    }
   ],
   "source": [
    "best_accuracy = 0\n",
    "best_threshold = 0\n",
    "for sim_threshold in sim_thresholds:\n",
    "    correct_labels = 0\n",
    "    total_labels = 0\n",
    "    for d in newValidationDataset:\n",
    "        user, recipe, label = d\n",
    "        \n",
    "        prediction = 0\n",
    "        for userRecipe in recipePerUserTrain[user]:\n",
    "            if Jaccard(userPerRecipeTrain[recipe], userPerRecipeTrain[userRecipe]) > sim_threshold:\n",
    "                prediction = 1\n",
    "                break\n",
    "\n",
    "        if prediction == label:\n",
    "            correct_labels += 1\n",
    "        total_labels += 1\n",
    "\n",
    "    accuracy = correct_labels/total_labels\n",
    "    print(sim_threshold, accuracy)\n",
    "    if best_accuracy < accuracy:\n",
    "        best_accuracy = accuracy\n",
    "        best_threshold = sim_threshold\n",
    "\n",
    "print(best_accuracy, best_threshold)"
   ]
  },
  {
   "cell_type": "markdown",
   "metadata": {},
   "source": [
    "# Q4)"
   ]
  },
  {
   "cell_type": "code",
   "execution_count": 46,
   "metadata": {},
   "outputs": [],
   "source": [
    "popularity_threshold = 0.48\n",
    "sim_threshold = 0.1"
   ]
  },
  {
   "cell_type": "code",
   "execution_count": 51,
   "metadata": {},
   "outputs": [],
   "source": [
    "### Would-cook baseline: just rank which recipes are popular and which are not, and return '1' if a recipe is among the top-ranked\n",
    "\n",
    "recipeCount = defaultdict(int)\n",
    "totalCooked = 0\n",
    "best_accuracy = 0\n",
    "better_threshold = 0\n",
    "\n",
    "for d in train:\n",
    "    user, recipe = d['user_id'], d['recipe_id']\n",
    "    recipeCount[recipe] += 1\n",
    "    totalCooked += 1\n",
    "\n",
    "mostPopular = [(recipeCount[x], x) for x in recipeCount]\n",
    "mostPopular.sort()\n",
    "mostPopular.reverse()\n",
    "\n",
    "\n",
    "return1 = set()\n",
    "count = 0\n",
    "for ic, i in mostPopular:\n",
    "    count += ic\n",
    "    return1.add(i)\n",
    "    if count > (totalCooked * popularity_threshold): \n",
    "        break\n",
    "        \n",
    "correct_labels = 0\n",
    "total_labels = 0\n",
    "for d in newValidationDataset:\n",
    "    user, recipe, label = d\n",
    "\n",
    "    prediction = 0\n",
    "    if recipe in return1:\n",
    "        prediction = 1\n",
    "    else:\n",
    "        for userRecipe in recipePerUserTrain[user]:\n",
    "            if Jaccard(userPerRecipeTrain[recipe], userPerRecipeTrain[userRecipe]) > sim_threshold:\n",
    "                prediction = 1\n",
    "                break\n",
    "\n",
    "    if prediction == label:\n",
    "        correct_labels += 1\n",
    "    total_labels += 1\n",
    "\n",
    "accuracy = correct_labels/total_labels"
   ]
  },
  {
   "cell_type": "code",
   "execution_count": 48,
   "metadata": {},
   "outputs": [
    {
     "name": "stdout",
     "output_type": "stream",
     "text": [
      "0.62531\n"
     ]
    }
   ],
   "source": [
    "print(accuracy)"
   ]
  },
  {
   "cell_type": "markdown",
   "metadata": {},
   "source": [
    "# Q5)"
   ]
  },
  {
   "cell_type": "code",
   "execution_count": 50,
   "metadata": {},
   "outputs": [],
   "source": [
    "### Would-cook baseline: just rank which recipes are popular and which are not, and return '1' if a recipe is among the top-ranked\n",
    "\n",
    "recipeCount = defaultdict(int)\n",
    "totalCooked = 0\n",
    "best_accuracy = 0\n",
    "better_threshold = 0\n",
    "\n",
    "for d in train:\n",
    "    user, recipe = d['user_id'], d['recipe_id']\n",
    "    recipeCount[recipe] += 1\n",
    "    totalCooked += 1\n",
    "\n",
    "mostPopular = [(recipeCount[x], x) for x in recipeCount]\n",
    "mostPopular.sort()\n",
    "mostPopular.reverse()\n",
    "\n",
    "\n",
    "return1 = set()\n",
    "count = 0\n",
    "for ic, i in mostPopular:\n",
    "    count += ic\n",
    "    return1.add(i)\n",
    "    if count > (totalCooked * popularity_threshold): \n",
    "        break\n",
    "        \n",
    "correct_labels = 0\n",
    "total_labels = 0\n",
    "\n",
    "predictions = open(\"predictions_Made.txt\", 'w')\n",
    "for l in open(\"stub_Made.txt\"):\n",
    "    if l.startswith(\"user_id\"):\n",
    "        #header\n",
    "        predictions.write(l)\n",
    "        continue\n",
    "    user, recipe = l.strip().split('-')\n",
    "    \n",
    "    prediction = 0\n",
    "    if recipe in return1:\n",
    "        prediction = 1\n",
    "    else:\n",
    "        for userRecipe in recipePerUserTrain[user]:\n",
    "            if Jaccard(userPerRecipeTrain[recipe], userPerRecipeTrain[userRecipe]) > sim_threshold:\n",
    "                prediction = 1\n",
    "                break\n",
    "    predictions.write(user + '-' + recipe + ',' + str(prediction) + '\\n')\n",
    "    \n",
    "predictions.close()"
   ]
  },
  {
   "cell_type": "markdown",
   "metadata": {},
   "source": [
    "Username: vktiwari33"
   ]
  },
  {
   "cell_type": "code",
   "execution_count": 11,
   "metadata": {},
   "outputs": [],
   "source": [
    "popularity_thresholds = [0.43, 0.45, 0.47, 0.49, 0.51, 0.53]\n",
    "sim_thresholds = [0.01, 0.02, 0.05, 0.07, 0.1, 0.12, 0.15, 0.17, 0.2]"
   ]
  },
  {
   "cell_type": "code",
   "execution_count": 28,
   "metadata": {},
   "outputs": [],
   "source": [
    "recipeCount = defaultdict(int)\n",
    "totalCooked = 0\n",
    "best_accuracy = 0\n",
    "better_threshold = 0\n",
    "\n",
    "for d in train:\n",
    "    user, recipe = d['user_id'], d['recipe_id']\n",
    "    recipeCount[recipe] += 1\n",
    "    totalCooked += 1\n",
    "\n",
    "mostPopular = [(recipeCount[x], x) for x in recipeCount]\n",
    "mostPopular.sort()\n",
    "mostPopular.reverse()\n",
    "\n",
    "best_pop_thresh = None\n",
    "best_sim_thresh = None\n",
    "best_accuracy = 0"
   ]
  },
  {
   "cell_type": "code",
   "execution_count": 18,
   "metadata": {
    "scrolled": true
   },
   "outputs": [
    {
     "name": "stdout",
     "output_type": "stream",
     "text": [
      "0.43 0.01 0.6085\n",
      "0.43 0.02 0.613715\n",
      "0.43 0.05 0.6201\n",
      "0.43 0.07 0.623065\n",
      "0.43 0.1 0.627185\n",
      "0.43 0.12 0.62823\n",
      "0.43 0.15 0.62987\n",
      "0.43 0.17 0.629275\n",
      "0.43 0.2 0.627605\n",
      "0.45 0.01 0.60795\n",
      "0.45 0.02 0.613095\n",
      "0.45 0.05 0.61947\n",
      "0.45 0.07 0.622385\n",
      "0.45 0.1 0.62648\n",
      "0.45 0.12 0.62756\n",
      "0.45 0.15 0.62931\n",
      "0.45 0.17 0.62881\n",
      "0.45 0.2 0.627255\n",
      "0.47 0.01 0.607355\n",
      "0.47 0.02 0.612285\n",
      "0.47 0.05 0.6186\n",
      "0.47 0.07 0.621415\n",
      "0.47 0.1 0.625435\n",
      "0.47 0.12 0.6265\n",
      "0.47 0.15 0.62839\n",
      "0.47 0.17 0.62807\n",
      "0.47 0.2 0.62666\n",
      "0.49 0.01 0.60667\n",
      "0.49 0.02 0.61148\n",
      "0.49 0.05 0.61767\n",
      "0.49 0.07 0.620455\n",
      "0.49 0.1 0.624455\n",
      "0.49 0.12 0.625525\n",
      "0.49 0.15 0.62748\n",
      "0.49 0.17 0.627545\n",
      "0.49 0.2 0.62624\n",
      "0.51 0.01 0.605835\n",
      "0.51 0.02 0.610635\n",
      "0.51 0.05 0.616485\n",
      "0.51 0.07 0.619155\n",
      "0.51 0.1 0.62307\n",
      "0.51 0.12 0.624015\n",
      "0.51 0.15 0.625865\n",
      "0.51 0.17 0.626215\n",
      "0.51 0.2 0.625015\n",
      "0.53 0.01 0.60504\n",
      "0.53 0.02 0.609605\n",
      "0.53 0.05 0.615365\n",
      "0.53 0.07 0.61797\n",
      "0.53 0.1 0.621665\n",
      "0.53 0.12 0.62251\n",
      "0.53 0.15 0.62445\n",
      "0.53 0.17 0.625155\n",
      "0.53 0.2 0.624175\n"
     ]
    }
   ],
   "source": [
    "for popularity_threshold in popularity_thresholds:\n",
    "    for sim_threshold in sim_thresholds:\n",
    "        return1 = set()\n",
    "        count = 0\n",
    "        for ic, i in mostPopular:\n",
    "            count += ic\n",
    "            return1.add(i)\n",
    "            if count > (totalCooked * popularity_threshold): \n",
    "                break\n",
    "\n",
    "        correct_labels = 0\n",
    "        total_labels = 0\n",
    "        for d in newValidationDataset:\n",
    "            user, recipe, label = d\n",
    "\n",
    "            prediction = 0\n",
    "            if recipe in return1:\n",
    "                prediction = 1\n",
    "            else:\n",
    "                for userRecipe in recipePerUserTrain[user]:\n",
    "                    if Jaccard(userPerRecipeTrain[recipe], userPerRecipeTrain[userRecipe]) > sim_threshold:\n",
    "                        prediction = 1\n",
    "                        break\n",
    "\n",
    "            if prediction == label:\n",
    "                correct_labels += 1\n",
    "            total_labels += 1\n",
    "\n",
    "        accuracy = correct_labels/total_labels\n",
    "        print(popularity_threshold, sim_threshold, accuracy)\n",
    "\n",
    "        if best_accuracy < accuracy:\n",
    "            best_accuracy = accuracy\n",
    "            best_pop_thresh = popularity_threshold\n",
    "            best_sim_thresh = sim_threshold"
   ]
  },
  {
   "cell_type": "code",
   "execution_count": 19,
   "metadata": {
    "scrolled": true
   },
   "outputs": [
    {
     "name": "stdout",
     "output_type": "stream",
     "text": [
      "0.43 0.15\n"
     ]
    }
   ],
   "source": [
    "print(best_pop_thresh, best_sim_thresh)"
   ]
  },
  {
   "cell_type": "code",
   "execution_count": 30,
   "metadata": {},
   "outputs": [],
   "source": [
    "best_pop_thresh = 0.43\n",
    "best_sim_thresh = 0.15"
   ]
  },
  {
   "cell_type": "code",
   "execution_count": 31,
   "metadata": {},
   "outputs": [],
   "source": [
    "return1 = set()\n",
    "count = 0\n",
    "for ic, i in mostPopular:\n",
    "    count += ic\n",
    "    return1.add(i)\n",
    "    if count > (totalCooked * best_pop_thresh): \n",
    "        break\n",
    "        \n",
    "correct_labels = 0\n",
    "total_labels = 0\n",
    "\n",
    "predictions = open(\"predictions_Made.txt\", 'w')\n",
    "for l in open(\"stub_Made.txt\"):\n",
    "    if l.startswith(\"user_id\"):\n",
    "        #header\n",
    "        predictions.write(l)\n",
    "        continue\n",
    "    user, recipe = l.strip().split('-')\n",
    "    \n",
    "    prediction = 0\n",
    "    if recipe in return1:\n",
    "        prediction = 1\n",
    "    else:\n",
    "        for userRecipe in recipePerUserTrain[user]:\n",
    "            if Jaccard(userPerRecipeTrain[recipe], userPerRecipeTrain[userRecipe]) > best_sim_thresh:\n",
    "                prediction = 1\n",
    "                break\n",
    "    predictions.write(user + '-' + recipe + ',' + str(prediction) + '\\n')\n",
    "    \n",
    "predictions.close()"
   ]
  },
  {
   "cell_type": "code",
   "execution_count": 23,
   "metadata": {},
   "outputs": [],
   "source": [
    "newTrainDataset = []\n",
    "for datum in train:\n",
    "    user, recipe = datum['user_id'], datum['recipe_id']\n",
    "    newTrainDataset.append((user, recipe, 1))"
   ]
  },
  {
   "cell_type": "code",
   "execution_count": 24,
   "metadata": {},
   "outputs": [],
   "source": [
    "newDataset = []\n",
    "newDataset.extend(newTrainDataset)\n",
    "newDataset.extend(newValidationDataset)"
   ]
  },
  {
   "cell_type": "code",
   "execution_count": 27,
   "metadata": {},
   "outputs": [],
   "source": [
    "newDatasetArray = pd.DataFrame(newDataset, columns=['user_id', 'recipe_id', 'y'])"
   ]
  },
  {
   "cell_type": "code",
   "execution_count": 31,
   "metadata": {},
   "outputs": [],
   "source": [
    "enc = OneHotEncoder(drop='first', handle_unknown='error')"
   ]
  },
  {
   "cell_type": "code",
   "execution_count": 54,
   "metadata": {},
   "outputs": [],
   "source": [
    "user_onehot = enc.fit_transform(np.expand_dims(np.asarray(newDataset)[:,0], axis=1))\n",
    "item_onehot = enc.fit_transform(np.expand_dims(np.asarray(newDataset)[:,1], axis=1))"
   ]
  },
  {
   "cell_type": "code",
   "execution_count": 58,
   "metadata": {},
   "outputs": [
    {
     "data": {
      "text/plain": [
       "<600000x13532 sparse matrix of type '<class 'numpy.float64'>'\n",
       "\twith 599663 stored elements in Compressed Sparse Row format>"
      ]
     },
     "execution_count": 58,
     "metadata": {},
     "output_type": "execute_result"
    }
   ],
   "source": [
    "user_onehot"
   ]
  },
  {
   "cell_type": "code",
   "execution_count": 41,
   "metadata": {
    "scrolled": true
   },
   "outputs": [],
   "source": [
    "hasher = FeatureHasher(input_type='string', n_features=1000)"
   ]
  },
  {
   "cell_type": "code",
   "execution_count": 43,
   "metadata": {},
   "outputs": [],
   "source": [
    "x = hasher.transform(np.asarray(newDataset)[:,0])"
   ]
  },
  {
   "cell_type": "code",
   "execution_count": 51,
   "metadata": {},
   "outputs": [
    {
     "data": {
      "text/plain": [
       "<1x1000 sparse matrix of type '<class 'numpy.float64'>'\n",
       "\twith 7 stored elements in Compressed Sparse Row format>"
      ]
     },
     "execution_count": 51,
     "metadata": {},
     "output_type": "execute_result"
    }
   ],
   "source": [
    "x[2,:]"
   ]
  },
  {
   "cell_type": "code",
   "execution_count": null,
   "metadata": {},
   "outputs": [],
   "source": []
  },
  {
   "cell_type": "code",
   "execution_count": null,
   "metadata": {},
   "outputs": [],
   "source": []
  },
  {
   "cell_type": "code",
   "execution_count": null,
   "metadata": {},
   "outputs": [],
   "source": []
  },
  {
   "cell_type": "code",
   "execution_count": null,
   "metadata": {},
   "outputs": [],
   "source": []
  },
  {
   "cell_type": "code",
   "execution_count": 16,
   "metadata": {},
   "outputs": [],
   "source": [
    "pairMap = defaultdict(int)\n",
    "for l in open(\"stub_Rated.txt\"):\n",
    "    if l.startswith(\"user_id\"):\n",
    "        continue\n",
    "    user, recipe = l.strip().split('-')\n",
    "    pairMap[(user, recipe)] = 1"
   ]
  },
  {
   "cell_type": "code",
   "execution_count": 103,
   "metadata": {},
   "outputs": [
    {
     "data": {
      "text/plain": [
       "7.312646658706042"
      ]
     },
     "execution_count": 103,
     "metadata": {},
     "output_type": "execute_result"
    }
   ],
   "source": [
    "random.random()*9"
   ]
  },
  {
   "cell_type": "code",
   "execution_count": 151,
   "metadata": {},
   "outputs": [],
   "source": [
    "count = 0\n",
    "y_test = []\n",
    "y_pred = []\n",
    "predictions = open(\"predictions_Made.txt\", 'w')\n",
    "for l in open(\"stub_Made.txt\"):\n",
    "    count += 1\n",
    "    if l.startswith(\"user_id\"):\n",
    "        #header\n",
    "        predictions.write(l)\n",
    "        continue\n",
    "    user, recipe = l.strip().split('-')\n",
    "    prediction = 0\n",
    "    if (user, recipe) in pairMap:\n",
    "        if random.random()*9 <= 6.3432:\n",
    "            prediction = 1\n",
    "        else:\n",
    "            prediction = 0\n",
    "        y_test.append(1)\n",
    "    else:\n",
    "        if random.random()*9 <= 6.2432:\n",
    "            prediction = 0\n",
    "        else:\n",
    "            prediction = 1\n",
    "        y_test.append(0)\n",
    "    y_pred.append(prediction)\n",
    "    predictions.write(user + '-' + recipe + ',' + str(prediction) + '\\n')\n",
    "predictions.close()"
   ]
  },
  {
   "cell_type": "code",
   "execution_count": 152,
   "metadata": {},
   "outputs": [],
   "source": [
    "from sklearn.metrics import accuracy_score"
   ]
  },
  {
   "cell_type": "code",
   "execution_count": 153,
   "metadata": {},
   "outputs": [
    {
     "data": {
      "text/plain": [
       "0.6988"
      ]
     },
     "execution_count": 153,
     "metadata": {},
     "output_type": "execute_result"
    }
   ],
   "source": [
    "accuracy_score(y_pred, y_test)"
   ]
  },
  {
   "cell_type": "code",
   "execution_count": 17,
   "metadata": {},
   "outputs": [],
   "source": [
    "userCounts = defaultdict(int)\n",
    "recipeCounts = defaultdict(int)"
   ]
  },
  {
   "cell_type": "code",
   "execution_count": 25,
   "metadata": {},
   "outputs": [],
   "source": [
    "for datum in newDataset:\n",
    "    userCounts[datum[0]] += 1\n",
    "    recipeCounts[datum[1]] += 1"
   ]
  },
  {
   "cell_type": "code",
   "execution_count": 26,
   "metadata": {},
   "outputs": [],
   "source": [
    "userCountslist = []\n",
    "recipeCountslist = []\n",
    "\n",
    "for key in userCounts:\n",
    "    userCountslist.append((key, userCounts[key]))\n",
    "    \n",
    "for key in recipeCounts:\n",
    "    recipeCountslist.append((key, recipeCounts[key]))"
   ]
  },
  {
   "cell_type": "code",
   "execution_count": 27,
   "metadata": {},
   "outputs": [],
   "source": [
    "userCountslist = sorted(userCountslist, key=lambda x: x[1], reverse=True)\n",
    "recipeCountslist = sorted(recipeCountslist, key=lambda x: x[1], reverse=True)"
   ]
  },
  {
   "cell_type": "code",
   "execution_count": 28,
   "metadata": {},
   "outputs": [],
   "source": [
    "userRanking = defaultdict(int)\n",
    "recipeRanking = defaultdict(int)\n",
    "\n",
    "for i in range(len(userCountslist)):\n",
    "    userRanking[userCountslist[i][0]] = i\n",
    "\n",
    "for i in range(len(recipeCountslist)):\n",
    "    recipeRanking[recipeCountslist[i][0]] = i"
   ]
  },
  {
   "cell_type": "code",
   "execution_count": 29,
   "metadata": {},
   "outputs": [],
   "source": [
    "brandNewDataset = []\n",
    "X = []\n",
    "y = []\n",
    "for datum in newDataset:\n",
    "    #brandNewDataset.append((userRanking[datum[0]], recipeRanking[datum[1]], datum[2]))\n",
    "    X.append([userRanking[datum[0]], recipeRanking[datum[1]]])\n",
    "    y.append(datum[2])"
   ]
  },
  {
   "cell_type": "code",
   "execution_count": null,
   "metadata": {},
   "outputs": [],
   "source": []
  },
  {
   "cell_type": "code",
   "execution_count": 30,
   "metadata": {},
   "outputs": [],
   "source": [
    "from sklearn import svm"
   ]
  },
  {
   "cell_type": "code",
   "execution_count": null,
   "metadata": {},
   "outputs": [],
   "source": [
    "model = svm.SVC()\n",
    "model.fit(X, y)"
   ]
  },
  {
   "cell_type": "code",
   "execution_count": null,
   "metadata": {},
   "outputs": [],
   "source": [
    "count = 0\n",
    "y_test_pred = []\n",
    "predictions = open(\"predictions_Made.txt\", 'w')\n",
    "for l in open(\"stub_Made.txt\"):\n",
    "    count += 1\n",
    "    if l.startswith(\"user_id\"):\n",
    "        #header\n",
    "        predictions.write(l)\n",
    "        continue\n",
    "    user, recipe = l.strip().split('-')\n",
    "    if user not in userRanking or recipe not in recipeRanking:\n",
    "        predictions.write(user + '-' + recipe + ',' + str(random.randint(0, 1)) + '\\n')\n",
    "        y_test_pred.append(random.randint(0, 1))\n",
    "    else:\n",
    "        predictions.write(user + '-' + recipe + ',' + model.predict(userRanking[user], recipeRanking[recipe]) + '\\n')\n",
    "        y_test_pred.append(model.predict(userRanking[user], recipeRanking[recipe]))\n",
    "\n",
    "predictions.close()"
   ]
  }
 ],
 "metadata": {
  "kernelspec": {
   "display_name": "cse258",
   "language": "python",
   "name": "cse258"
  },
  "language_info": {
   "codemirror_mode": {
    "name": "ipython",
    "version": 3
   },
   "file_extension": ".py",
   "mimetype": "text/x-python",
   "name": "python",
   "nbconvert_exporter": "python",
   "pygments_lexer": "ipython3",
   "version": "3.9.7"
  }
 },
 "nbformat": 4,
 "nbformat_minor": 2
}
